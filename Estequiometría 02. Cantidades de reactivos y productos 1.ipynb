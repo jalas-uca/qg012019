{
 "cells": [
  {
   "cell_type": "markdown",
   "metadata": {},
   "source": [
    "# Química general.\n",
    "## Estequiometría.\n",
    "\n",
    "### Cantidades de reactivos y productos.\n",
    "\n",
    "Para originar sustancias nuevas, los elementos y los compuestos se combinan por medio de reacciones químicas. Una reacción química indica cuáles son las sustancias de partida y cuáles son las sustancias obtenidas. Cuando la reacción está balanceada, se conoce además la proporción en la que todas las sustancias han de estar presentes.\n",
    "\n",
    "En este sentido, puede establecerse una analogía entre una ecuación química y una receta de cocina. Piense en el siguiente ejemplo cotidiano: si usted desea preparar una hamburguesa, necesita 2 trozos de pan y un trozo de carne. Los dos trozos de pan y el trozo de carne serían como los reactivos en una ecuación química y la hamburguesa sería el producto. Note como la receta establece la proporción necesaria de cada ingrediente para una cantidad específica de producto (para 1 hamburguesa, se necesitan 2 trozos de carne y uno de pan). Si se deseara preparar dos hamburguesas,  entonces, se recurre a la receta: si una hamburguesa requiere 2 trozos de pan, 2 hamburguesas necesitarán 4. Si 1 hamburguesa requiere 1 trozo de carne, 2 hamburguesas requerirán 2. De la misma forma, es posible determinar cuántas hamburguesas pueden prepararse si se sabe de cuántos ingredientes se dispone. Si se tienen por ejemplo, 6 trozos de pan, entonces podrán prepararse 3 hamburguesas, etc.\n",
    "\n",
    "Una ecuación química funciona de la misma manera, indicando cuánto se necesita de cada reactivo para obtener una cantidad determinada de producto. Así, es posible determinar:\n",
    "\n",
    "a) Cuánto producto puede obtenerse si se conoce la cantidad de uno de los reactivos.\n",
    "\n",
    "b) Cuánto reactivo se necesita para obtener una cantidad conocida de producto.\n",
    "\n",
    "En cualquiera de los casos la lógica a utilizar es la misma, se multiplica la cantidad conocida (ya sea de producto o de reactivo) por la proporción indicada en la \"receta\" (la ecuación química).\n",
    "\n",
    "#### Ejemplos.\n",
    "\n",
    "a) ¿Cuántos moles de agua pueden formarse a partir de 100 moles de oxígeno?\n",
    "\n",
    "La reacción es:\n",
    "\n",
    "$$H_2 + O_2 \\rightarrow H_2O$$\n",
    "\n",
    "Balanceada:\n",
    "\n",
    "$$2H_2 + O_2 \\rightarrow 2H_2O$$\n",
    "\n",
    "La cantidad conocida es la de moles de oxígeno, que son 100. La cantidad buscada es la de moles de agua. La proporción a utilizar es por lo tanto, la de oxígeno y agua en la reacción balanceada:\n",
    "\n",
    "$$100\\text{ moles de $O_2$} \\times \\frac{2\\text{ moles de $H_2O$}}{1\\text{ moles de $O_2$}}$$\n",
    "\n",
    "Nótese que la proporción utilizada incluye los coeficientes en la reacción balanceada. En este caso, 2 para el agua y 1 para el oxígeno. También véase que se pone en el denominador la sustancia cuya cantidad es conocida.\n",
    "\n",
    "$$100\\text{ moles de $O_2$} \\times \\frac{2\\text{ moles de $H_2O$}}{1\\text{ moles de $O_2$}}=200\\text{ moles de $H_2O$}$$\n",
    "\n",
    "Nótese también que como el oxígeno tiene coeficiente 1, mientras que el agua tiene coeficiente 2, los moles de agua que se obtienen en la reacción será el doble de los moles de oxígeno presente. En la miniapp a continuación, varíe los moles de oxígeno y vea la cantidad de moles de agua obtenidos."
   ]
  },
  {
   "cell_type": "code",
   "execution_count": 55,
   "metadata": {},
   "outputs": [],
   "source": [
    "import ipywidgets as wid\n",
    "from IPython.display import Latex"
   ]
  },
  {
   "cell_type": "code",
   "execution_count": 2,
   "metadata": {},
   "outputs": [],
   "source": [
    "def agua(moles_de_O2=1):\n",
    "    return Latex(r\"\"\"$\\text{%.1f moles de oxígeno} \\times \\frac{\\text{2 moles de agua}}{\\text{1 moles de oxígeno}}=%.1f \\text{ moles de agua}$\"\"\"%(moles_de_O2,moles_de_O2*2)) "
   ]
  },
  {
   "cell_type": "code",
   "execution_count": 3,
   "metadata": {},
   "outputs": [
    {
     "data": {
      "application/vnd.jupyter.widget-view+json": {
       "model_id": "f074ebfad40d4dc2849b1d098f130615",
       "version_major": 2,
       "version_minor": 0
      },
      "text/plain": [
       "interactive(children=(FloatSlider(value=1.0, description='moles_de_O2', max=15.0, min=1.0), Output()), _dom_cl…"
      ]
     },
     "metadata": {},
     "output_type": "display_data"
    },
    {
     "data": {
      "text/plain": [
       "<function __main__.agua(moles_de_O2=1)>"
      ]
     },
     "execution_count": 3,
     "metadata": {},
     "output_type": "execute_result"
    }
   ],
   "source": [
    "wid.interact(agua,moles_de_O2=(1,15,0.1))"
   ]
  },
  {
   "cell_type": "markdown",
   "metadata": {},
   "source": [
    "b) ¿Cuánto hidrógeno se requiere para reaccionar con los 100 moles de oxígeno del literal a)?\n",
    "\n",
    "De nuevo, la cantidad conocida es la de moles de oxígeno (100). La cantidad buscada es la de moles de hidrógeno. Nuevamente, la cantidad conocida se multiplica por la relación establecida en la reacción balanceada:\n",
    "\n",
    "$$100 \\text{ moles de oxígeno} \\times \\frac{\\text{2 moles de hidrógeno}}{\\text{1 moles de oxígeno}}=200 \\text{ moles de hidrógeno}$$\n",
    "\n",
    "De nuevo, para cada sustancia se usa su coeficiente en la reacción balanceada y se coloca abajo la sustancia de cantidad conocida.\n",
    "\n",
    "c) ¿Cuántos moles de oxígeno se requieren para formar 250 moles de agua?\n",
    "\n",
    "En esta ocasión, la cantidad conocida es la de moles de agua (250) y la cantidad buscada, la de moles de oxígeno. La proporción a utilizar incluye nuevamente agua y oxígeno, pero en esta ocasión es el agua la sustancia que deberá colocarse en el denominador, pues es ella la cantidad conocida:\n",
    "\n",
    "$$100 \\text{ moles de agua} \\times \\frac{\\text{1 mol de oxígeno}}{\\text{2 moles de agua}}=50 \\text{ moles de oxígeno}$$\n",
    "\n",
    "En esta ocasión, ya que el coeficiente 2 del agua queda en el denominador, la relación es que el número de moles de oxígeno siempre será la mitad del número de moles de agua. Manipule el control a continuación para verificarlo."
   ]
  },
  {
   "cell_type": "code",
   "execution_count": 4,
   "metadata": {},
   "outputs": [],
   "source": [
    "def O2(n=1):\n",
    "    return Latex(r\"\"\"$\\text{%.1f moles de agua} \\times \\frac{\\text{1 moles de oxígeno}}{\\text{2 moles de agua}}=%.2f \\text{ moles de oxíegno}$\"\"\"%(n,n/2)) "
   ]
  },
  {
   "cell_type": "code",
   "execution_count": 5,
   "metadata": {},
   "outputs": [
    {
     "data": {
      "application/vnd.jupyter.widget-view+json": {
       "model_id": "ccf1e769aa9a4c5796fcb14798e19b2f",
       "version_major": 2,
       "version_minor": 0
      },
      "text/plain": [
       "interactive(children=(FloatSlider(value=1.0, description='n', max=15.0, min=1.0), Output()), _dom_classes=('wi…"
      ]
     },
     "metadata": {},
     "output_type": "display_data"
    },
    {
     "data": {
      "text/plain": [
       "<function __main__.O2(n=1)>"
      ]
     },
     "execution_count": 5,
     "metadata": {},
     "output_type": "execute_result"
    }
   ],
   "source": [
    "wid.interact(O2,n=(1,15,0.1))\n"
   ]
  },
  {
   "cell_type": "markdown",
   "metadata": {},
   "source": [
    "d) En la combustión de propano ($C_3H_8$) con oxígeno, se obtiene dióxido de carbono y agua. En la miniapp a continuación, determine:\n",
    "\n",
    "* A partir de 1.5 moles de propano: cuántos moles de oxígeno se requieren y cuántos moles de dióxido de carbono y agua se forman.\n",
    "* A partir de 7.5 moles de oxígeno: cuántos moles de propano se requieren y cuántos moles de dióxido de carbono y agua se forman.\n",
    "* A partir de 3 moles de dióxido de carbono: cuántos moles de agua se habrían formado y cuántos moles de propano y de oxígeno se necesitaron.\n",
    "* A partir de 2.5 moles de agua: cuántos moles de dióxido de carbono se habrían formado y cuántos moles de propano y de oxígeno se necesitaron.\n",
    "\n",
    "La reacción es:\n",
    "\n",
    "$$C_3H_8+O_2 \\rightarrow CO_2 + H_2O$$\n",
    "\n",
    "Balanceada:\n",
    "\n",
    "$$C_3H_8+5 O_2 \\rightarrow 3 CO_2 + 4 H_2O$$\n",
    "\n",
    "A continuación, $n$ representa los moles de la sustancia conocida, $SC$ representa la sustancia conocida y $SAC$ la sustancia por calcular."
   ]
  },
  {
   "cell_type": "code",
   "execution_count": 76,
   "metadata": {},
   "outputs": [],
   "source": [
    "def moles(n=1,SC=\"Propano\",SAC=\"Dióxido de carbono\"):\n",
    "    sustancias=[\"Propano\",\"Oxígeno\",\"Dióxido de carbono\",\"Agua\"]\n",
    "    coefs=[1,5,3,4]\n",
    "    i=sustancias.index(SC)\n",
    "    j=sustancias.index(SAC)\n",
    "    n_calc=n*coefs[j]/coefs[i]\n",
    "    if SC==SAC:\n",
    "        print(\"La sustancia conocida y la sustancia por calcular deben ser diferentes.\")\n",
    "    else:\n",
    "        return Latex(r\"\"\"$\\text{%.1f moles de %s}\\times \\frac{\\text{%i moles de %s}}{\\text{%i moles de %s}}=%.2f \\text{ moles de %s}$\"\"\"%(n,SC,coefs[j],SAC,coefs[i],SC,n_calc,SAC))\n",
    "        "
   ]
  },
  {
   "cell_type": "code",
   "execution_count": 78,
   "metadata": {},
   "outputs": [
    {
     "data": {
      "application/vnd.jupyter.widget-view+json": {
       "model_id": "bdd57fc28db245419977bf0fadc5dd0b",
       "version_major": 2,
       "version_minor": 0
      },
      "text/plain": [
       "interactive(children=(FloatSlider(value=1.0, description='n', max=20.0, min=1.0, step=0.5), Dropdown(descripti…"
      ]
     },
     "metadata": {},
     "output_type": "display_data"
    },
    {
     "data": {
      "text/plain": [
       "<function __main__.moles(n=1, SC='Propano', SAC='Dióxido de carbono')>"
      ]
     },
     "execution_count": 78,
     "metadata": {},
     "output_type": "execute_result"
    }
   ],
   "source": [
    "wid.interact(moles,n=(1,20,0.5),SC=[\"Propano\",\"Oxígeno\",\"Dióxido de carbono\",\"Agua\"],SAC=[\"Propano\",\"Oxígeno\",\"Dióxido de carbono\",\"Agua\"])\n"
   ]
  },
  {
   "cell_type": "markdown",
   "metadata": {},
   "source": [
    "#### Advertencia.\n",
    "Debe notarse que en todos los cálculos se trabaja con el número de moles de cada sustancia. Si en un determinado caso, la cantidad conocida se da en gramos, deberá convertirse a moles **antes** de hacer los cálculos. Además, si las cantidades por calcular son masas, deberán hacerse todos los cálculos en moles y **después**, convertir las cantidades necesarias a masa, por medio de las masas molares."
   ]
  },
  {
   "cell_type": "code",
   "execution_count": null,
   "metadata": {},
   "outputs": [],
   "source": []
  }
 ],
 "metadata": {
  "kernelspec": {
   "display_name": "Python 3",
   "language": "python",
   "name": "python3"
  },
  "language_info": {
   "codemirror_mode": {
    "name": "ipython",
    "version": 3
   },
   "file_extension": ".py",
   "mimetype": "text/x-python",
   "name": "python",
   "nbconvert_exporter": "python",
   "pygments_lexer": "ipython3",
   "version": "3.6.8"
  }
 },
 "nbformat": 4,
 "nbformat_minor": 2
}
