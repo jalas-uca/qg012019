{
 "cells": [
  {
   "cell_type": "markdown",
   "metadata": {},
   "source": [
    "# Química General.\n",
    "##  Estequiometría.\n",
    "\n",
    "### Conceptos preliminares.\n",
    "La estequiometría es la parte de la química que estudia las proporciones en las cuales los elementos y compuestos se combinan para formar otras sustancias. Muchas de estas proporciones se basan en la definición de una cantidad particular de materia denomnada *mol*.\n",
    "\n",
    "Un mol es una cantidad equivalente a $6.02x10^{23}$ unidades de materia. Es decir, si se trata de átomos, un mol equivale a $6.02x10^{23}$ átomos; si se trata de moléculas, un mol equivale a $6.02x10^{23}$ moléculas; si se trata de electrones, un mol equivale a $6.02x10^{23}$ electrones, etc. A este número particular de $6.02x10^{23}$ se le conoce como número de Avogadro.\n",
    "\n",
    "A partir de la definición del mol, puede establecerse además el concepto de *masa molar*, que es la masa de un mol de materia. Para el caso de los átomos, la masa de un mol coincide *numéricamente* con la masa de un solo átomo. Por ejemplo, la masa de un átomo de carbono es 12.011 *uma*, entonces, la masa de un mol de carbono es de 12.011 *gramos*. Esta relación numérica también puede establecerse en otras unidades. Por ejemplo, es posible decir que un mol de carbono pesa 12.011 *libras*. Para evitar confusiones, es común que se distinga el mol, agregando el nombre de la unidad de masa correspondiente. Así, un *mol-gramo* de carbono pesará 12.011 *gramos*, un *mol-libra* de carbono pesará 12.011 *libras*, y así con cada unidad. Típicamente, si solo se usa el término *mol*, se está haciendo referencia al *mol-gramo*.\n",
    "\n",
    "Por otra parte, el concepto de masa molar se puede extender a compuestos formados por varios átomos. En este caso, la masa molar de la sustancia es igual a la suma de las masas molares de los elementos que la conforman.\n",
    "\n",
    "#### Ejemplos.\n",
    "\n",
    "1. Calcular la masa molar de las siguientes sustancias:\n",
    "\n",
    "a) Cloruro de sodio.\n",
    "\n",
    "b) Hidróxido de calcio.\n",
    "\n",
    "c) Agua.\n",
    "\n",
    "d) Ácido sulfúrico.\n",
    "\n",
    "e) Fostato de potasio.\n",
    "\n",
    "**Solución:**"
   ]
  },
  {
   "cell_type": "code",
   "execution_count": 2,
   "metadata": {},
   "outputs": [],
   "source": [
    "import ipywidgets as widgets\n",
    "import pandas"
   ]
  },
  {
   "cell_type": "markdown",
   "metadata": {},
   "source": [
    "a) Cloruro de sodio ($NaCl$)"
   ]
  },
  {
   "cell_type": "code",
   "execution_count": 14,
   "metadata": {},
   "outputs": [
    {
     "data": {
      "text/html": [
       "<div>\n",
       "<style scoped>\n",
       "    .dataframe tbody tr th:only-of-type {\n",
       "        vertical-align: middle;\n",
       "    }\n",
       "\n",
       "    .dataframe tbody tr th {\n",
       "        vertical-align: top;\n",
       "    }\n",
       "\n",
       "    .dataframe thead th {\n",
       "        text-align: right;\n",
       "    }\n",
       "</style>\n",
       "<table border=\"1\" class=\"dataframe\">\n",
       "  <thead>\n",
       "    <tr style=\"text-align: right;\">\n",
       "      <th></th>\n",
       "      <th>Subíndice</th>\n",
       "      <th>Masa molar</th>\n",
       "      <th>Subíndice x masa molar</th>\n",
       "    </tr>\n",
       "  </thead>\n",
       "  <tbody>\n",
       "    <tr>\n",
       "      <th>Na</th>\n",
       "      <td>1</td>\n",
       "      <td>22.99</td>\n",
       "      <td>22.990</td>\n",
       "    </tr>\n",
       "    <tr>\n",
       "      <th>Cl</th>\n",
       "      <td>1</td>\n",
       "      <td>35.453</td>\n",
       "      <td>35.453</td>\n",
       "    </tr>\n",
       "    <tr>\n",
       "      <th></th>\n",
       "      <td></td>\n",
       "      <td>Suma:</td>\n",
       "      <td>58.443</td>\n",
       "    </tr>\n",
       "  </tbody>\n",
       "</table>\n",
       "</div>"
      ],
      "text/plain": [
       "   Subíndice Masa molar  Subíndice x masa molar\n",
       "Na         1      22.99                  22.990\n",
       "Cl         1     35.453                  35.453\n",
       "                  Suma:                  58.443"
      ]
     },
     "execution_count": 14,
     "metadata": {},
     "output_type": "execute_result"
    }
   ],
   "source": [
    "tabla={\"Subíndice\":[1,1,\"\"],\n",
    "      \"Masa molar\":[22.99,35.453,\"Suma:\"],\n",
    "      \"Subíndice x masa molar\":[22.99,35.453,22.99+35.453]}\n",
    "tabla=pandas.DataFrame(tabla,index=[\"Na\",\"Cl\",\"\"])\n",
    "tabla"
   ]
  },
  {
   "cell_type": "markdown",
   "metadata": {},
   "source": [
    "b) Hidróxido de calcio ($Ca(OH)_2$)"
   ]
  },
  {
   "cell_type": "code",
   "execution_count": 13,
   "metadata": {},
   "outputs": [
    {
     "data": {
      "text/html": [
       "<div>\n",
       "<style scoped>\n",
       "    .dataframe tbody tr th:only-of-type {\n",
       "        vertical-align: middle;\n",
       "    }\n",
       "\n",
       "    .dataframe tbody tr th {\n",
       "        vertical-align: top;\n",
       "    }\n",
       "\n",
       "    .dataframe thead th {\n",
       "        text-align: right;\n",
       "    }\n",
       "</style>\n",
       "<table border=\"1\" class=\"dataframe\">\n",
       "  <thead>\n",
       "    <tr style=\"text-align: right;\">\n",
       "      <th></th>\n",
       "      <th>Subíndice</th>\n",
       "      <th>Masa molar</th>\n",
       "      <th>Subíndice x masa molar</th>\n",
       "    </tr>\n",
       "  </thead>\n",
       "  <tbody>\n",
       "    <tr>\n",
       "      <th>Ca</th>\n",
       "      <td>1</td>\n",
       "      <td>40.078</td>\n",
       "      <td>40.078</td>\n",
       "    </tr>\n",
       "    <tr>\n",
       "      <th>O</th>\n",
       "      <td>2</td>\n",
       "      <td>15.999</td>\n",
       "      <td>31.998</td>\n",
       "    </tr>\n",
       "    <tr>\n",
       "      <th>H</th>\n",
       "      <td>2</td>\n",
       "      <td>1.008</td>\n",
       "      <td>2.016</td>\n",
       "    </tr>\n",
       "    <tr>\n",
       "      <th></th>\n",
       "      <td></td>\n",
       "      <td>Suma:</td>\n",
       "      <td>74.092</td>\n",
       "    </tr>\n",
       "  </tbody>\n",
       "</table>\n",
       "</div>"
      ],
      "text/plain": [
       "   Subíndice Masa molar  Subíndice x masa molar\n",
       "Ca         1     40.078                  40.078\n",
       "O          2     15.999                  31.998\n",
       "H          2      1.008                   2.016\n",
       "                  Suma:                  74.092"
      ]
     },
     "execution_count": 13,
     "metadata": {},
     "output_type": "execute_result"
    }
   ],
   "source": [
    "tabla={\"Subíndice\":[1,2,2,\"\"],\n",
    "      \"Masa molar\":[40.078,15.999,1.008,\"Suma:\"],\n",
    "      \"Subíndice x masa molar\":[40.078,31.998,2.016,40.078+31.998+2.016]}\n",
    "tabla=pandas.DataFrame(tabla,index=[\"Ca\",\"O\",\"H\",\"\"])\n",
    "tabla"
   ]
  },
  {
   "cell_type": "markdown",
   "metadata": {},
   "source": [
    "Nótese que el subíndice 2 afecta a todo lo que está dentro del paréntesis, por lo que el compuesto tiene dos átomos de oxígeno y dos de hirógeno.\n",
    "\n",
    "c) Agua ($H_2O$)"
   ]
  },
  {
   "cell_type": "code",
   "execution_count": 15,
   "metadata": {},
   "outputs": [
    {
     "data": {
      "text/html": [
       "<div>\n",
       "<style scoped>\n",
       "    .dataframe tbody tr th:only-of-type {\n",
       "        vertical-align: middle;\n",
       "    }\n",
       "\n",
       "    .dataframe tbody tr th {\n",
       "        vertical-align: top;\n",
       "    }\n",
       "\n",
       "    .dataframe thead th {\n",
       "        text-align: right;\n",
       "    }\n",
       "</style>\n",
       "<table border=\"1\" class=\"dataframe\">\n",
       "  <thead>\n",
       "    <tr style=\"text-align: right;\">\n",
       "      <th></th>\n",
       "      <th>Subíndice</th>\n",
       "      <th>Masa molar</th>\n",
       "      <th>Subíndice x masa molar</th>\n",
       "    </tr>\n",
       "  </thead>\n",
       "  <tbody>\n",
       "    <tr>\n",
       "      <th>H</th>\n",
       "      <td>2</td>\n",
       "      <td>1.008</td>\n",
       "      <td>2.016</td>\n",
       "    </tr>\n",
       "    <tr>\n",
       "      <th>O</th>\n",
       "      <td>1</td>\n",
       "      <td>15.999</td>\n",
       "      <td>15.999</td>\n",
       "    </tr>\n",
       "    <tr>\n",
       "      <th></th>\n",
       "      <td></td>\n",
       "      <td>Suma:</td>\n",
       "      <td>18.015</td>\n",
       "    </tr>\n",
       "  </tbody>\n",
       "</table>\n",
       "</div>"
      ],
      "text/plain": [
       "  Subíndice Masa molar  Subíndice x masa molar\n",
       "H         2      1.008                   2.016\n",
       "O         1     15.999                  15.999\n",
       "                 Suma:                  18.015"
      ]
     },
     "execution_count": 15,
     "metadata": {},
     "output_type": "execute_result"
    }
   ],
   "source": [
    "tabla={\"Subíndice\":[2,1,\"\"],\n",
    "      \"Masa molar\":[1.008,15.999,\"Suma:\"],\n",
    "      \"Subíndice x masa molar\":[2.016,15.999,2.016+15.999]}\n",
    "tabla=pandas.DataFrame(tabla,index=[\"H\",\"O\",\"\"])\n",
    "tabla"
   ]
  },
  {
   "cell_type": "markdown",
   "metadata": {},
   "source": [
    "d) Ácido sulfúrico ($H_2 SO_4$)"
   ]
  },
  {
   "cell_type": "code",
   "execution_count": 16,
   "metadata": {},
   "outputs": [
    {
     "data": {
      "text/html": [
       "<div>\n",
       "<style scoped>\n",
       "    .dataframe tbody tr th:only-of-type {\n",
       "        vertical-align: middle;\n",
       "    }\n",
       "\n",
       "    .dataframe tbody tr th {\n",
       "        vertical-align: top;\n",
       "    }\n",
       "\n",
       "    .dataframe thead th {\n",
       "        text-align: right;\n",
       "    }\n",
       "</style>\n",
       "<table border=\"1\" class=\"dataframe\">\n",
       "  <thead>\n",
       "    <tr style=\"text-align: right;\">\n",
       "      <th></th>\n",
       "      <th>Subíndice</th>\n",
       "      <th>Masa molar</th>\n",
       "      <th>Subíndice x masa molar</th>\n",
       "    </tr>\n",
       "  </thead>\n",
       "  <tbody>\n",
       "    <tr>\n",
       "      <th>H</th>\n",
       "      <td>2</td>\n",
       "      <td>1.008</td>\n",
       "      <td>2.016</td>\n",
       "    </tr>\n",
       "    <tr>\n",
       "      <th>S</th>\n",
       "      <td>1</td>\n",
       "      <td>32.066</td>\n",
       "      <td>32.066</td>\n",
       "    </tr>\n",
       "    <tr>\n",
       "      <th>O</th>\n",
       "      <td>4</td>\n",
       "      <td>15.999</td>\n",
       "      <td>63.996</td>\n",
       "    </tr>\n",
       "    <tr>\n",
       "      <th></th>\n",
       "      <td></td>\n",
       "      <td>Suma:</td>\n",
       "      <td>98.078</td>\n",
       "    </tr>\n",
       "  </tbody>\n",
       "</table>\n",
       "</div>"
      ],
      "text/plain": [
       "  Subíndice Masa molar  Subíndice x masa molar\n",
       "H         2      1.008                   2.016\n",
       "S         1     32.066                  32.066\n",
       "O         4     15.999                  63.996\n",
       "                 Suma:                  98.078"
      ]
     },
     "execution_count": 16,
     "metadata": {},
     "output_type": "execute_result"
    }
   ],
   "source": [
    "tabla={\"Subíndice\":[2,1,4,\"\"],\n",
    "      \"Masa molar\":[1.008,32.066,15.999,\"Suma:\"],\n",
    "      \"Subíndice x masa molar\":[2.016,32.066,63.996,98.078]}\n",
    "tabla=pandas.DataFrame(tabla,index=[\"H\",\"S\",\"O\",\"\"])\n",
    "tabla"
   ]
  },
  {
   "cell_type": "markdown",
   "metadata": {},
   "source": [
    "e) Fosfato de potasio ($K_3 PO_4$)"
   ]
  },
  {
   "cell_type": "code",
   "execution_count": 17,
   "metadata": {},
   "outputs": [
    {
     "data": {
      "text/html": [
       "<div>\n",
       "<style scoped>\n",
       "    .dataframe tbody tr th:only-of-type {\n",
       "        vertical-align: middle;\n",
       "    }\n",
       "\n",
       "    .dataframe tbody tr th {\n",
       "        vertical-align: top;\n",
       "    }\n",
       "\n",
       "    .dataframe thead th {\n",
       "        text-align: right;\n",
       "    }\n",
       "</style>\n",
       "<table border=\"1\" class=\"dataframe\">\n",
       "  <thead>\n",
       "    <tr style=\"text-align: right;\">\n",
       "      <th></th>\n",
       "      <th>Subíndice</th>\n",
       "      <th>Masa molar</th>\n",
       "      <th>Subíndice x masa molar</th>\n",
       "    </tr>\n",
       "  </thead>\n",
       "  <tbody>\n",
       "    <tr>\n",
       "      <th>K</th>\n",
       "      <td>3</td>\n",
       "      <td>39.098</td>\n",
       "      <td>117.294</td>\n",
       "    </tr>\n",
       "    <tr>\n",
       "      <th>P</th>\n",
       "      <td>1</td>\n",
       "      <td>30.974</td>\n",
       "      <td>30.974</td>\n",
       "    </tr>\n",
       "    <tr>\n",
       "      <th>O</th>\n",
       "      <td>4</td>\n",
       "      <td>15.999</td>\n",
       "      <td>63.996</td>\n",
       "    </tr>\n",
       "    <tr>\n",
       "      <th></th>\n",
       "      <td></td>\n",
       "      <td>Suma:</td>\n",
       "      <td>212.264</td>\n",
       "    </tr>\n",
       "  </tbody>\n",
       "</table>\n",
       "</div>"
      ],
      "text/plain": [
       "  Subíndice Masa molar  Subíndice x masa molar\n",
       "K         3     39.098                 117.294\n",
       "P         1     30.974                  30.974\n",
       "O         4     15.999                  63.996\n",
       "                 Suma:                 212.264"
      ]
     },
     "execution_count": 17,
     "metadata": {},
     "output_type": "execute_result"
    }
   ],
   "source": [
    "tabla={\"Subíndice\":[3,1,4,\"\"],\n",
    "      \"Masa molar\":[39.098,30.974,15.999,\"Suma:\"],\n",
    "      \"Subíndice x masa molar\":[117.294,30.974,63.996,212.264]}\n",
    "tabla=pandas.DataFrame(tabla,index=[\"K\",\"P\",\"O\",\"\"])\n",
    "tabla"
   ]
  },
  {
   "cell_type": "markdown",
   "metadata": {},
   "source": [
    "### Composición centesimal.\n",
    "\n",
    "La composición centesimal es la expresión, en términos de porcentajes, de la composición de un compuesto. Es decir, dentro de un compuesto, qué porcentaje de su masa representa cada elemento.\n",
    "\n",
    "#### Ejemplos.\n",
    "\n",
    "a) Calcular la composición centesimal del ácido sulfúrico.\n",
    "\n",
    "Para determinar la composición centesimal de una sustancia, se puede partir de su masa molar. Para el ácido sulfúrico, se había obtenido previamente:"
   ]
  },
  {
   "cell_type": "code",
   "execution_count": 19,
   "metadata": {},
   "outputs": [
    {
     "data": {
      "text/html": [
       "<div>\n",
       "<style scoped>\n",
       "    .dataframe tbody tr th:only-of-type {\n",
       "        vertical-align: middle;\n",
       "    }\n",
       "\n",
       "    .dataframe tbody tr th {\n",
       "        vertical-align: top;\n",
       "    }\n",
       "\n",
       "    .dataframe thead th {\n",
       "        text-align: right;\n",
       "    }\n",
       "</style>\n",
       "<table border=\"1\" class=\"dataframe\">\n",
       "  <thead>\n",
       "    <tr style=\"text-align: right;\">\n",
       "      <th></th>\n",
       "      <th>Subíndice</th>\n",
       "      <th>Masa molar</th>\n",
       "      <th>Subíndice x masa molar</th>\n",
       "    </tr>\n",
       "  </thead>\n",
       "  <tbody>\n",
       "    <tr>\n",
       "      <th>H</th>\n",
       "      <td>2</td>\n",
       "      <td>1.008</td>\n",
       "      <td>2.016</td>\n",
       "    </tr>\n",
       "    <tr>\n",
       "      <th>S</th>\n",
       "      <td>1</td>\n",
       "      <td>32.066</td>\n",
       "      <td>32.066</td>\n",
       "    </tr>\n",
       "    <tr>\n",
       "      <th>O</th>\n",
       "      <td>4</td>\n",
       "      <td>15.999</td>\n",
       "      <td>63.996</td>\n",
       "    </tr>\n",
       "    <tr>\n",
       "      <th></th>\n",
       "      <td></td>\n",
       "      <td>Suma:</td>\n",
       "      <td>98.078</td>\n",
       "    </tr>\n",
       "  </tbody>\n",
       "</table>\n",
       "</div>"
      ],
      "text/plain": [
       "  Subíndice Masa molar  Subíndice x masa molar\n",
       "H         2      1.008                   2.016\n",
       "S         1     32.066                  32.066\n",
       "O         4     15.999                  63.996\n",
       "                 Suma:                  98.078"
      ]
     },
     "execution_count": 19,
     "metadata": {},
     "output_type": "execute_result"
    }
   ],
   "source": [
    "tabla={\"Subíndice\":[2,1,4,\"\"],\n",
    "      \"Masa molar\":[1.008,32.066,15.999,\"Suma:\"],\n",
    "      \"Subíndice x masa molar\":[2.016,32.066,63.996,98.078]}\n",
    "tabla=pandas.DataFrame(tabla,index=[\"H\",\"S\",\"O\",\"\"])\n",
    "tabla"
   ]
  },
  {
   "cell_type": "markdown",
   "metadata": {},
   "source": [
    "Para calcular el porcentaje de cada elemento se divide la masa que ese elemento aporta a la masa molar del compuesto por la masa molar del compuesto:"
   ]
  },
  {
   "cell_type": "markdown",
   "metadata": {},
   "source": [
    "&nbsp;|Subíndice x masa molar|% del elemento&nbsp;&nbsp;&nbsp;&nbsp;&nbsp;\n",
    ":---|---:|---:\n",
    "**H**|$$2.016$$|$$\\frac{2.016}{98.078}=2.06$$\n",
    "**S**|$$32.066$$|$$\\frac{32.066}{98.078}=32.69$$\n",
    "**O**|$$63.996$$|$$\\frac{63.996}{98.078}=62.25$$\n",
    "&nbsp;|Suma:|100%"
   ]
  },
  {
   "cell_type": "markdown",
   "metadata": {},
   "source": [
    "Esto significa que en una muestra de ácido sulfúrico, sea cual sea la cantidad, el 2.06% es hidrógeno, el 32.69% es azufre y el 62.25% es oxígeno.\n",
    "\n",
    "b) Determinar cuánto fósforo, en gramos, hay en 2kg de fosfato de potasio.\n",
    "\n",
    "Para el fosfato de potasio se había obtenido previamente:"
   ]
  },
  {
   "cell_type": "code",
   "execution_count": 23,
   "metadata": {},
   "outputs": [
    {
     "data": {
      "text/html": [
       "<div>\n",
       "<style scoped>\n",
       "    .dataframe tbody tr th:only-of-type {\n",
       "        vertical-align: middle;\n",
       "    }\n",
       "\n",
       "    .dataframe tbody tr th {\n",
       "        vertical-align: top;\n",
       "    }\n",
       "\n",
       "    .dataframe thead th {\n",
       "        text-align: right;\n",
       "    }\n",
       "</style>\n",
       "<table border=\"1\" class=\"dataframe\">\n",
       "  <thead>\n",
       "    <tr style=\"text-align: right;\">\n",
       "      <th></th>\n",
       "      <th>Subíndice</th>\n",
       "      <th>Masa molar</th>\n",
       "      <th>Subíndice x masa molar</th>\n",
       "    </tr>\n",
       "  </thead>\n",
       "  <tbody>\n",
       "    <tr>\n",
       "      <th>K</th>\n",
       "      <td>3</td>\n",
       "      <td>39.098</td>\n",
       "      <td>117.294</td>\n",
       "    </tr>\n",
       "    <tr>\n",
       "      <th>P</th>\n",
       "      <td>1</td>\n",
       "      <td>30.974</td>\n",
       "      <td>30.974</td>\n",
       "    </tr>\n",
       "    <tr>\n",
       "      <th>O</th>\n",
       "      <td>4</td>\n",
       "      <td>15.999</td>\n",
       "      <td>63.996</td>\n",
       "    </tr>\n",
       "    <tr>\n",
       "      <th></th>\n",
       "      <td></td>\n",
       "      <td>Suma:</td>\n",
       "      <td>212.264</td>\n",
       "    </tr>\n",
       "  </tbody>\n",
       "</table>\n",
       "</div>"
      ],
      "text/plain": [
       "  Subíndice Masa molar  Subíndice x masa molar\n",
       "K         3     39.098                 117.294\n",
       "P         1     30.974                  30.974\n",
       "O         4     15.999                  63.996\n",
       "                 Suma:                 212.264"
      ]
     },
     "execution_count": 23,
     "metadata": {},
     "output_type": "execute_result"
    }
   ],
   "source": [
    "tabla={\"Subíndice\":[3,1,4,\"\"],\n",
    "      \"Masa molar\":[39.098,30.974,15.999,\"Suma:\"],\n",
    "      \"Subíndice x masa molar\":[117.294,30.974,63.996,212.264]}\n",
    "tabla=pandas.DataFrame(tabla,index=[\"K\",\"P\",\"O\",\"\"])\n",
    "tabla"
   ]
  },
  {
   "cell_type": "markdown",
   "metadata": {},
   "source": [
    "Su composición centesimal sería:"
   ]
  },
  {
   "cell_type": "markdown",
   "metadata": {},
   "source": [
    "&nbsp;|Subíndice x masa molar|% del elemento&nbsp;&nbsp;&nbsp;&nbsp;&nbsp;\n",
    ":---|---:|---:\n",
    "**K**|$$117.294$$|$$\\frac{117.294}{212.264}=55.26$$\n",
    "**P**|$$30.974$$|$$\\frac{30.974}{212.264}=14.59$$\n",
    "**O**|$$63.996$$|$$\\frac{63.996}{212.264}=30.15$$\n",
    "&nbsp;|Suma:|100%\n",
    "\n",
    "Es decir, el fósforo representa un 14.59% del fosfato de potasio. Por lo tanto, en 2kg (es decir, 2000 g), habrá:\n",
    "\n",
    "$$2000g \\times \\frac{14.59}{100}=291.8 \\text{gramos de fósforo}$$"
   ]
  },
  {
   "cell_type": "markdown",
   "metadata": {},
   "source": [
    "### Conversiones entre masa y moles\n",
    "\n",
    "La masa molar permite además hacer conversiones entre cantidades en masa y moles de una sustancia. Para ello, la relaciń fundamental es:\n",
    "\n",
    "$$n={m \\over w}$$\n",
    "\n",
    "Donde $n$ es el número de moles, $m$ es la masa y $w$ es la masa molar de la sustancia.\n",
    "\n",
    "#### Ejemplos.\n",
    "\n",
    "a) ¿Cuántos moles son 50 gramos de agua?\n",
    "\n",
    "Para el agua se había obtenido una masa molar de 18.015. Por lo tanto:\n",
    "\n",
    "$$n={m \\over w}={50g \\over 18.015 {g \\over mol}}=2.78mol$$\n",
    "\n",
    "b) ¿Cuál es la masa de 25 moles de cloruro de sodio?\n",
    "\n",
    "Para el cloruro de sodio se obtuvo previamente una masa molar de 58.443. Por lo tanto:\n",
    "\n",
    "$$n={m \\over w} \\rightarrow m=nw \\\\\n",
    "m=(25 mol)(58.443{g \\over mol})=1461.08g$$"
   ]
  },
  {
   "cell_type": "markdown",
   "metadata": {},
   "source": []
  }
 ],
 "metadata": {
  "kernelspec": {
   "display_name": "Python 3",
   "language": "python",
   "name": "python3"
  },
  "language_info": {
   "codemirror_mode": {
    "name": "ipython",
    "version": 3
   },
   "file_extension": ".py",
   "mimetype": "text/x-python",
   "name": "python",
   "nbconvert_exporter": "python",
   "pygments_lexer": "ipython3",
   "version": "3.6.8"
  }
 },
 "nbformat": 4,
 "nbformat_minor": 2
}
