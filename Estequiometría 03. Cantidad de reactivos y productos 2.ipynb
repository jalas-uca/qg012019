{
 "cells": [
  {
   "cell_type": "markdown",
   "metadata": {},
   "source": [
    "# Química general.\n",
    "\n",
    "## Estequiometría.\n",
    "\n",
    "### Cantidad de reactivos y productos. Reactivo limitante y reactivo en exceso.\n",
    "\n",
    "Se hizo ya una analogía entre las reacciones químicas balanceadas y una receta de cocina. Considérese ahora esta otra analogía: si ha de prepararse hamburguesas, ¿cuántas pueden prepararse si se tienen 6 trozos de pan, pero solo 2 trozos de carne? La respuesta es 2. Esto es porque una vez consumidos los dos trozos de carne, ya no es posible hacer otra hamburguesa, a pesar de tener disponibles aún 2 trozos de pan.\n",
    "\n",
    "En las reacciones químicas sucede lo mismo. Cuando uno de los reactivos se consume por completo, la reacción se detiene, incluso si todavía existe alguna cantidad de los demás reactivos. A este reactivo que se consume primero se le conoce como *reactivo limitante*, justamente porque al consumirse la reacción se detiene. Al (o los) reactivo(s) que sobra(n), se le(s) conoce como *reactivo(s) en exceso*.\n",
    "\n",
    "Para determinar en una reacción química cuál es el reactivo limitante, se comparan las cantidades presentes de cada uno con la *proporción estequiométrica*, es decir, con la proporción establecida por la reacción balanceada. Esto se hace dividiendo los *moles* de cada reactivo entre su coeficiente respectivo. El reactivo para el cual esta división es menor es el reactivo limitante.\n",
    "\n",
    "Por ejemplo: para la reacción de formación de agua:\n",
    "\n",
    "$$H_2 + O_2 \\rightarrow H_2O$$\n",
    "\n",
    "Que balanceada es:\n",
    "\n",
    "$$2H_2+O_2 \\rightarrow 2H_2O$$\n",
    "\n",
    "Determinar cuál es el reactivo limitante si 8 moles de hidrógeno se combinan con 5 moles de oxígeno.\n",
    "\n",
    "Para el hidrógeno:\n",
    "\n",
    "$$\\frac{\\text{moles de hidrógeno}}{\\text{coeficiente del hidrógeno}}=\\frac{8}{2}=4$$\n",
    "\n",
    "Para el oxígeno:\n",
    "\n",
    "$$\\frac{\\text{moles de oxígeno}}{\\text{coeficiente del oxígeno}}=\\frac{5}{1}=5$$\n",
    "\n",
    "La división fue menor para el hidrógeno, por lo tanto, él es el reactivo limitante. El oxígeno es por lo tanto el reactivo en exceso. Nótese como a pesar de que hay más moles de hidrógeno, él se consumirá primero en esta reacción. Esto sucede porque lo que determina al limitante es la *proporción* en la que se encuentran los reactivos, no a las cantidades en sí mismas.\n",
    "\n",
    "En los cálculos anteriores a este documento, los cálculos se hacían tomando como base cualquiera de las sustancias en la reacción. Para estos casos, se dice que la reacción sucede *en proporción estequiométrica*. Véase que en el ejemplo anterior, se conocía la cantidad de los dos reactivos. En los cálculos típicos de química general, si se conocen las cantidades de todos los reactivos (en contraste con los ejemplos del documento previo, donde se conocía solamente *una* cantidad), el primer cálculo a realizar es la determinación del reactivo limitante. Cualquier cálculo de cantidad de reactivo necesaria y cantidad de producto obtenida debe hacerse tomando como base al reactivo limitante.\n",
    "\n",
    "#### Ejemplo:\n",
    "\n",
    "a) Para la reacción previa (8 moles de hidrógeno y 5 de oxígeno), ¿cuántos moles de agua se forman?\n",
    "\n",
    "Como el reactivo limitante había sido el hidrógeno, se hará el cálculo a partir de él:\n",
    "\n",
    "$$8 \\text{ moles de $H_2$} \\times \\frac{\\text{2 moles de $H_2O$}}{\\text{2 moles de $H_2$}}=8\\text{ moles de $H_2O$}$$"
   ]
  },
  {
   "cell_type": "markdown",
   "metadata": {},
   "source": [
    "Si el cálculo se hubiera hecho a partir de los 5 moles de oxígeno, se habrían obtenido 10 moles de agua, pero puede verificarse en la reacción química (multiplicándola por 5), que para obtener 10 moles de agua se requieren 10 moles de hidrógeno:\n",
    "\n",
    "Balanceo original:\n",
    "\n",
    "$$2H_2+O_2 \\rightarrow 2H_2O$$\n",
    "\n",
    "Multiplicando por 5:\n",
    "\n",
    "$$10H_2+5O_2 \\rightarrow 10H_2O$$\n",
    "\n",
    "Esto ha sucedido así, porque al reaccionar, los 8 moles de hidrógeno se consumen. Al consumirse la reacción se detiene y **sobra** (es decir, queda sin reaccionar) una parte del reactivo en exceso. ¿Cuánto sobra? Esto puede determinarse calculando cuánto de la sustancia en exceso reacciona con la cantidad conocida de reactivo limitante:\n",
    "\n",
    "$$8 \\text{ moles de $H_2$} \\times \\frac{\\text{1 moles de $O_2$}}{\\text{2 moles de $H_2$}}=4\\text{ moles de $O_2$}$$\n",
    "\n",
    "Se necesitan 4 moles de oxígeno para reaccionar con los 8 moles de hidrógeno. Si habían 5 moles de oxígeno, significa que la diferencia: $5-4 = 1$ son los moles que sobran.\n",
    "\n",
    "Nuevamente, todos los cálculos están hechos en moles. Si las cantidades conocidas están en gramos, deben convertirse a moles **antes** de hacer los cálculos. Si las cantidades a calcular son masas, deben hacerse todos los cálculos en moles y **después** convertir a masa utilizando las masas molares.\n",
    "\n",
    "b) Se queman 10 moles de propano con 60 moles de oxígeno. Determinar cuántos moles de reactivo en exceso sobran y cuántos moles de cada producto se forman.\n",
    "\n",
    "Reacción:\n",
    "\n",
    "$$C_3H_8+O_2 \\rightarrow CO_2+H_2O$$\n",
    "\n",
    "Balanceada:\n",
    "\n",
    "$$C_3H_8+5O_2 \\rightarrow 3CO_2+4H_2O$$\n",
    "\n",
    "* Primero, se determina el reactivo limitante:\n",
    "\n",
    "$$\\frac{\\text{moles de propano}}{\\text{coeficiente del propano}}=\\frac{10}{1}=10$$\n",
    "\n",
    "$$\\frac{\\text{moles de oxígeno}}{\\text{coeficiente del oxígeno}}=\\frac{60}{5}=12$$\n",
    "\n",
    "La división es menor para el propano, por lo tanto él es el reactivo limitante. Por lo tanto el oxígeno es el reactivo en exceso.\n",
    "\n",
    "* Se hacen los cálculos a partir del reactivo limitante:\n",
    "\n",
    "$$10 \\text{ moles de $C_3H_8$} \\times \\frac{\\text{3 moles de $CO_2$}}{\\text{1 mol de $C_3H_8$}}=30 \\text{ moles de $CO_2$}$$\n",
    "\n",
    "$$10 \\text{ moles de $C_3H_8$} \\times \\frac{\\text{4 moles de $H_2O$}}{\\text{1 mol de $C_3H_8$}}=40 \\text{ moles de $H_2O$}$$\n",
    "\n",
    "\n",
    "$$10 \\text{ moles de $C_3H_8$} \\times \\frac{\\text{5 moles de $O_2$}}{\\text{1 mol de $C_3H_8$}}=50 \\text{ moles de $O_2$}$$\n",
    "\n",
    "Por lo tanto, se forman 30 moles de $CO_2$, 40 moles de $H_2O$ y *se consumen* 50 moles de $O_2$. Por lo tanto sobran $60-50=10$ moles de $O_2$.\n",
    "\n",
    "c) Para la reacción anterior, manipule las cantidades en la miniapp a continuación y determine para cada caso cuál es el reactivo limitante, cuál es el reactivo en exceso, cuántos moles se forman de cada producto y cuántos moles sobran del reactivo en exceso. \n",
    "\n",
    "(*n1* representa los moles de propano, *n2* representa los moles de oxígeno, *SAC* representa la sustancia a calcular)."
   ]
  },
  {
   "cell_type": "code",
   "execution_count": 3,
   "metadata": {},
   "outputs": [],
   "source": [
    "import ipywidgets as wid\n",
    "from IPython.display import Latex, display"
   ]
  },
  {
   "cell_type": "code",
   "execution_count": 4,
   "metadata": {},
   "outputs": [],
   "source": [
    "def limex(n1=1,n2=5,SAC=\"Dióxido de carbono\"):\n",
    "    sustancias=[\"Propano\",\"Oxígeno\",\"Dióxido de carbono\",\"Agua\"]\n",
    "    coefs=[1,5,3,4]\n",
    "    testprop=n1/coefs[0]\n",
    "    testox=n2/coefs[1]\n",
    "    display(Latex(r\"\"\"$\\frac{\\text{moles de propano}}{\\text{coeficiente del propano}}=\\frac{\\text{%.2f}}{\\text{%i}}=%.2f$\"\"\"%(n1,coefs[0],n1/coefs[0])))\n",
    "    display(Latex(r\"\"\"$\\frac{\\text{moles de oxígeno}}{\\text{coeficiente del oxígeno}}=\\frac{\\text{%.2f}}{\\text{%i}}=%.2f$\"\"\"%(n2,coefs[1],n2/coefs[1])))\n",
    "    if testprop>testox:\n",
    "        lim=1\n",
    "        n_ref=n2\n",
    "        REX=sustancias[0]\n",
    "        n_rex=n1\n",
    "        print(\"El oxígeno es el reactivo limitante.\")\n",
    "        print(\"El propano es el reactivo en exceso.\")\n",
    "    elif testprop<testox:\n",
    "        lim=0\n",
    "        n_ref=n1\n",
    "        REX=sustancias[1]\n",
    "        n_rex=n2\n",
    "        print(\"El propano es el reactivo limitante.\")\n",
    "        print(\"El oxígeno es el reactivo en exceso.\")\n",
    "    else:\n",
    "        return 'Los reactivos están en proporción estequiométrica. No hay reactivo limitante.'\n",
    "    \n",
    "    SC=sustancias[lim]\n",
    "    i=sustancias.index(SC)\n",
    "    j=sustancias.index(SAC)\n",
    "    n_calc=n_ref*coefs[j]/coefs[i]\n",
    "    if SC==SAC:\n",
    "        print('La sustancia a calcular debe ser distinta al reactivo limitante.')\n",
    "    elif SAC==REX:\n",
    "        return Latex(r\"\"\"$\\text{%.1f moles de %s}\\times \\frac{\\text{%i moles de %s}}{\\text{%i moles de %s}}=%.2f \\text{ moles de %s} \\text{ (Sobran %.1f - %.1f = %.1f moles})$\"\"\"%(n_ref,SC,coefs[j],SAC,coefs[i],SC,n_calc,SAC,n_rex,n_calc,n_rex-n_calc))\n",
    "    else:\n",
    "        return Latex(r\"\"\"$\\text{%.1f moles de %s}\\times \\frac{\\text{%i moles de %s}}{\\text{%i moles de %s}}=%.2f \\text{ moles de %s}$\"\"\"%(n_ref,SC,coefs[j],SAC,coefs[i],SC,n_calc,SAC))\n",
    "     \n",
    "     "
   ]
  },
  {
   "cell_type": "code",
   "execution_count": 5,
   "metadata": {},
   "outputs": [
    {
     "data": {
      "application/vnd.jupyter.widget-view+json": {
       "model_id": "4ddbf09b729040e1aa0719d13b97d00a",
       "version_major": 2,
       "version_minor": 0
      },
      "text/plain": [
       "interactive(children=(FloatSlider(value=1.0, description='n1', max=10.0, min=1.0, step=0.5), FloatSlider(value…"
      ]
     },
     "metadata": {},
     "output_type": "display_data"
    },
    {
     "data": {
      "text/plain": [
       "<function __main__.limex(n1=1, n2=5, SAC='Dióxido de carbono')>"
      ]
     },
     "execution_count": 5,
     "metadata": {},
     "output_type": "execute_result"
    }
   ],
   "source": [
    "wid.interact(limex,n1=(1,10,0.5),n2=(1,50,0.5),SAC=[\"Propano\",\"Oxígeno\",\"Dióxido de carbono\",\"Agua\"])"
   ]
  },
  {
   "cell_type": "markdown",
   "metadata": {},
   "source": [
    "Recuérdese que en caso de conocer las cantidades de reactivos en forma de masa, deben pasarse a moles **antes** de hacer los cálculos. Si se solicitan cantidades en masa, se deben hacer todos los cálculos en moles y **después** pasar los resultados a masa, utilizando las masas molares.\n",
    "\n",
    "### Porcentaje de rendimiento.\n",
    "Las reacciones químicas son fenómenos que se ven influenciados por varias condiciones: temperatura, presión, concentración de las sustancias presentes, presencia de sustancias inertes (que no reaccionan), entre otras. Todas estas condiciones pueden poner límites físicos del grado hasta el cual una reacción química puede desarrollarse.\n",
    "\n",
    "Para expresar este grado de desarrollo, se utiliza el *rendimiento de la reacción*, generalmente indicado en forma de porcentaje y definido de la siguiente forma:\n",
    "\n",
    "$$\\text{% de rendimiento}=\\% R=\\frac{\\text{rendimiento real}}{\\text{rendimiento estequiométrico}} \\times 100$$\n",
    "\n",
    "El rendimiento real es la cantidad generada de un producto o la cantidad consumida de un reactivo. El rendimiento estequiométrico (también llamado rendimiento teórico) es la cantidad generada (para productos) o consumida (para reactivos), *si en la reacción se consumen todos los reactivos* (o si se consume todo el *reactivo limitante*, en caso de existir uno).\n",
    "\n",
    "Todos los cálculos hechos hasta este momento en este documento y el anterior son rendimientos estequiométricos. Estos rendimientos indican las *cantidades máximas* que pueden consumirse en el caso de los reactivos y generarse en el caso de los productos. El porcentaje de rendimiento indica qué porcentaje de este valor se alcanza en una reacción química realmente, lo cual está determinado por las condiciones mencionadas al inicio de esta sección.\n",
    "\n",
    "A partir de lo dicho arriba, es posible concluir que el rendimiento de una reacción puede calcularse basándose en cualquiera de las sustancias en la misma (como de hecho se ilustra en el segundo de los problemas a continuación).\n",
    "\n",
    "#### Ejemplo:\n",
    "\n",
    "a) Para la combustión del propano planteada en la sección previa, si reaccionan 10 moles de propano con 22 moles de oxígeno y se obtienen 10.8 moles de dióxido de carbono, determinar el rendimiento de la reacción.\n",
    "\n",
    "Véase que en este caso se conocen las cantidades de los dos reactivos (como se mencionó en la sección previa, señal de que debe determinarse el reactivo limitante) y además se conoce la cantidad obtenida de uno de los productos.\n",
    "\n",
    "Con la miniapp de la sección anterior se puede determinar cuál de los reactivos sería el limitante y cuáles serían las cantidades consumidas del reactivo en exceso, o generadas para los productos:"
   ]
  },
  {
   "cell_type": "code",
   "execution_count": 123,
   "metadata": {},
   "outputs": [],
   "source": [
    "def limex(n1=10,n2=22,SAC=\"Dióxido de carbono\"):\n",
    "    sustancias=[\"Propano\",\"Oxígeno\",\"Dióxido de carbono\",\"Agua\"]\n",
    "    coefs=[1,5,3,4]\n",
    "    testprop=n1/coefs[0]\n",
    "    testox=n2/coefs[1]\n",
    "    display(Latex(r\"\"\"$\\frac{\\text{moles de propano}}{\\text{coeficiente del propano}}=\\frac{\\text{%.2f}}{\\text{%i}}=%.2f$\"\"\"%(n1,coefs[0],n1/coefs[0])))\n",
    "    display(Latex(r\"\"\"$\\frac{\\text{moles de oxígeno}}{\\text{coeficiente del oxígeno}}=\\frac{\\text{%.2f}}{\\text{%i}}=%.2f$\"\"\"%(n2,coefs[1],n2/coefs[1])))\n",
    "    if testprop>testox:\n",
    "        lim=1\n",
    "        n_ref=n2\n",
    "        REX=sustancias[0]\n",
    "        n_rex=n1\n",
    "        print(\"El oxígeno es el reactivo limitante.\")\n",
    "        print(\"El propano es el reactivo en exceso.\")\n",
    "    elif testprop<testox:\n",
    "        lim=0\n",
    "        n_ref=n1\n",
    "        REX=sustancias[1]\n",
    "        n_rex=n2\n",
    "        print(\"El propano es el reactivo limitante.\")\n",
    "        print(\"El oxígeno es el reactivo en exceso.\")\n",
    "    else:\n",
    "        return 'Los reactivos están en proporción estequiométrica. No hay reactivo limitante.'\n",
    "    \n",
    "    SC=sustancias[lim]\n",
    "    i=sustancias.index(SC)\n",
    "    j=sustancias.index(SAC)\n",
    "    n_calc=n_ref*coefs[j]/coefs[i]\n",
    "    if SC==SAC:\n",
    "        print('La sustancia a calcular debe ser distinta al reactivo limitante.')\n",
    "    elif SAC==REX:\n",
    "        return Latex(r\"\"\"$\\text{%.1f moles de %s}\\times \\frac{\\text{%i moles de %s}}{\\text{%i moles de %s}}=%.2f \\text{ moles de %s} \\text{ (Sobran %.1f - %.1f = %.1f moles})$\"\"\"%(n_ref,SC,coefs[j],SAC,coefs[i],SC,n_calc,SAC,n_rex,n_calc,n_rex-n_calc))\n",
    "    else:\n",
    "        return Latex(r\"\"\"$\\text{%.1f moles de %s}\\times \\frac{\\text{%i moles de %s}}{\\text{%i moles de %s}}=%.2f \\text{ moles de %s}$\"\"\"%(n_ref,SC,coefs[j],SAC,coefs[i],SC,n_calc,SAC))"
   ]
  },
  {
   "cell_type": "code",
   "execution_count": 124,
   "metadata": {},
   "outputs": [
    {
     "data": {
      "application/vnd.jupyter.widget-view+json": {
       "model_id": "82e19095220a498cb31ed33e34a2fe77",
       "version_major": 2,
       "version_minor": 0
      },
      "text/plain": [
       "interactive(children=(FloatSlider(value=10.0, description='n1', max=10.0, min=1.0, step=0.5), FloatSlider(valu…"
      ]
     },
     "metadata": {},
     "output_type": "display_data"
    },
    {
     "data": {
      "text/plain": [
       "<function __main__.limex(n1=10, n2=22, SAC='Dióxido de carbono')>"
      ]
     },
     "execution_count": 124,
     "metadata": {},
     "output_type": "execute_result"
    }
   ],
   "source": [
    "wid.interact(limex,n1=(1,10,0.5),n2=(1,50,0.5),SAC=[\"Propano\",\"Oxígeno\",\"Dióxido de carbono\",\"Agua\"])"
   ]
  },
  {
   "cell_type": "markdown",
   "metadata": {},
   "source": [
    "De manera que se formarían 13.2 moles de dióxido de carbono. Esto contrasta con los 10.8 moles obtenidos de acuerdo a la información del problema. Esto significa que, 13.2 moles de dióxido de carbono es la cantidad máxima que puede obtenerse a partir de 10 moles de propano y 22 moles de oxígeno. Sin embargo, por las condiciones ya mencionadas, no se obtuvieron 13.2, sino solamente 10.8. A partir de esto, es posible calcular el porcentaje de rendimiento de la reacción:\n",
    "\n",
    "$$\\%R=\\frac{\\text{rendimiento real}}{\\text{rendimiento estequiométrico}} \\times 100=\\frac{\\text{10.8 moles de $CO_2$}}{\\text{13.2 moles de $CO_2$}} \\times 100=81.82\\%$$\n",
    "\n",
    "Esto significa también que el reactivo limitante se consumió en un 81.82%. Es decir:\n",
    "\n",
    "$$22 \\text{ moles de $O_2$} \\times \\frac{81.82}{100}=18 \\text{moles de $O_2$}$$\n",
    "\n",
    "También, si se conoce el porcentaje de rendimiento de la reacción, es posible saber cuánto se produce en realidad de los productos, o cuánto se consume en realidad de los reactivos.\n",
    "\n",
    "#### Ejemplo.\n",
    "Si en la reacción anterior se colocan 20 moles de propano y 150 moles de oxígeno y el rendimiento de la reacción es de 94% ¿cuántos moles de agua se produjeron realmente?\n",
    "\n",
    "Calcule a mano (y luego compare con la miniapp) cuánta agua se formaría a partir de los 20 moles de propano y los 150 moles de oxígeno."
   ]
  },
  {
   "cell_type": "code",
   "execution_count": 128,
   "metadata": {},
   "outputs": [],
   "source": [
    "def limex(n1=10,n2=22,SAC=\"Dióxido de carbono\"):\n",
    "    sustancias=[\"Propano\",\"Oxígeno\",\"Dióxido de carbono\",\"Agua\"]\n",
    "    coefs=[1,5,3,4]\n",
    "    testprop=n1/coefs[0]\n",
    "    testox=n2/coefs[1]\n",
    "    display(Latex(r\"\"\"$\\frac{\\text{moles de propano}}{\\text{coeficiente del propano}}=\\frac{\\text{%.2f}}{\\text{%i}}=%.2f$\"\"\"%(n1,coefs[0],n1/coefs[0])))\n",
    "    display(Latex(r\"\"\"$\\frac{\\text{moles de oxígeno}}{\\text{coeficiente del oxígeno}}=\\frac{\\text{%.2f}}{\\text{%i}}=%.2f$\"\"\"%(n2,coefs[1],n2/coefs[1])))\n",
    "    if testprop>testox:\n",
    "        lim=1\n",
    "        n_ref=n2\n",
    "        REX=sustancias[0]\n",
    "        n_rex=n1\n",
    "        print(\"El oxígeno es el reactivo limitante.\")\n",
    "        print(\"El propano es el reactivo en exceso.\")\n",
    "    elif testprop<testox:\n",
    "        lim=0\n",
    "        n_ref=n1\n",
    "        REX=sustancias[1]\n",
    "        n_rex=n2\n",
    "        print(\"El propano es el reactivo limitante.\")\n",
    "        print(\"El oxígeno es el reactivo en exceso.\")\n",
    "    else:\n",
    "        return 'Los reactivos están en proporción estequiométrica. No hay reactivo limitante.'\n",
    "    \n",
    "    SC=sustancias[lim]\n",
    "    i=sustancias.index(SC)\n",
    "    j=sustancias.index(SAC)\n",
    "    n_calc=n_ref*coefs[j]/coefs[i]\n",
    "    if SC==SAC:\n",
    "        print('La sustancia a calcular debe ser distinta al reactivo limitante.')\n",
    "    elif SAC==REX:\n",
    "        return Latex(r\"\"\"$\\text{%.1f moles de %s}\\times \\frac{\\text{%i moles de %s}}{\\text{%i moles de %s}}=%.2f \\text{ moles de %s} \\text{ (Sobran %.1f - %.1f = %.1f moles})$\"\"\"%(n_ref,SC,coefs[j],SAC,coefs[i],SC,n_calc,SAC,n_rex,n_calc,n_rex-n_calc))\n",
    "    else:\n",
    "        return Latex(r\"\"\"$\\text{%.1f moles de %s}\\times \\frac{\\text{%i moles de %s}}{\\text{%i moles de %s}}=%.2f \\text{ moles de %s}$\"\"\"%(n_ref,SC,coefs[j],SAC,coefs[i],SC,n_calc,SAC))"
   ]
  },
  {
   "cell_type": "code",
   "execution_count": 127,
   "metadata": {},
   "outputs": [
    {
     "data": {
      "application/vnd.jupyter.widget-view+json": {
       "model_id": "7af1d0581389465b98c06c3cd161d9e3",
       "version_major": 2,
       "version_minor": 0
      },
      "text/plain": [
       "interactive(children=(IntSlider(value=10, description='n1', max=20, min=1), IntSlider(value=22, description='n…"
      ]
     },
     "metadata": {},
     "output_type": "display_data"
    },
    {
     "data": {
      "text/plain": [
       "<function __main__.limex(n1=10, n2=22, SAC='Dióxido de carbono')>"
      ]
     },
     "execution_count": 127,
     "metadata": {},
     "output_type": "execute_result"
    }
   ],
   "source": [
    "wid.interact(limex,n1=(1,20,1),n2=(1,200,1),SAC=[\"Propano\",\"Oxígeno\",\"Dióxido de carbono\",\"Agua\"])"
   ]
  },
  {
   "cell_type": "markdown",
   "metadata": {},
   "source": [
    "Los moles de agua así obtenidos serían el rendimiento teórico. Si se sabe, porque el problema así lo indica, que el rendimiento real de la reacción fue de 94%:\n",
    "\n",
    "$$\\%R=94=\\frac{\\text{rendimiento real}}{\\text{80 moles de agua}} \\times 100 \\\\\n",
    "\\text{rendimiento real}=\\frac{94}{100} \\times \\text{80 moles de agua}=75.2 \\text{ moles de agua}$$"
   ]
  },
  {
   "cell_type": "code",
   "execution_count": null,
   "metadata": {},
   "outputs": [],
   "source": []
  }
 ],
 "metadata": {
  "kernelspec": {
   "display_name": "Python 3",
   "language": "python",
   "name": "python3"
  },
  "language_info": {
   "codemirror_mode": {
    "name": "ipython",
    "version": 3
   },
   "file_extension": ".py",
   "mimetype": "text/x-python",
   "name": "python",
   "nbconvert_exporter": "python",
   "pygments_lexer": "ipython3",
   "version": "3.6.8"
  }
 },
 "nbformat": 4,
 "nbformat_minor": 2
}
